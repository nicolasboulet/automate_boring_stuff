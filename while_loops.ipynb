{
 "cells": [
  {
   "cell_type": "markdown",
   "source": [
    "# While\n",
    "When the execution reaches the end of a \"while\" statement's block, it jumps back to the start to re-check the condition.\n",
    "You can press ctrl-c to interrupt an infinite loop. This hotkey stops Python programs."
   ],
   "metadata": {}
  },
  {
   "cell_type": "code",
   "execution_count": null,
   "source": [
    "count = 0\n",
    "while count < 5:\n",
    "  print(count)\n",
    "  count +=1"
   ],
   "outputs": [
    {
     "output_type": "stream",
     "name": "stdout",
     "text": [
      "0\n",
      "1\n",
      "2\n",
      "3\n",
      "4\n"
     ]
    }
   ],
   "metadata": {}
  },
  {
   "cell_type": "code",
   "execution_count": 10,
   "source": [
    "name = ''\n",
    "while name != 'Nico':\n",
    "  name = input('Please type your name. ')\n",
    "print('Thank you ' + name )"
   ],
   "outputs": [
    {
     "output_type": "stream",
     "name": "stdout",
     "text": [
      "Thank you Nico\n"
     ]
    }
   ],
   "metadata": {}
  },
  {
   "cell_type": "markdown",
   "source": [
    "# Break\n",
    "A \"break\" statement causes the execution to immediately leave the loop, without re-check the condition."
   ],
   "metadata": {}
  },
  {
   "cell_type": "code",
   "execution_count": 1,
   "source": [
    "name = ''\n",
    "while True:\n",
    "  name = input('Please type your name. ')\n",
    "  if name == 'Nico':\n",
    "    break\n",
    "print('Thank you ' + name )\n"
   ],
   "outputs": [
    {
     "output_type": "stream",
     "name": "stdout",
     "text": [
      "Thank you Nico\n"
     ]
    }
   ],
   "metadata": {}
  },
  {
   "cell_type": "markdown",
   "source": [
    "# Continue\n",
    "A \"continue\" statement causes the execution to immediate jump back to the start of the loop and re-check the condition.\n"
   ],
   "metadata": {}
  },
  {
   "cell_type": "code",
   "execution_count": 3,
   "source": [
    "spam = 0\n",
    "while spam < 5:\n",
    "  spam += 1\n",
    "  if spam == 3:\n",
    "    continue\n",
    "  print('spam is ' + str(spam))"
   ],
   "outputs": [
    {
     "output_type": "stream",
     "name": "stdout",
     "text": [
      "spam is 1\n",
      "spam is 2\n",
      "spam is 4\n",
      "spam is 5\n"
     ]
    }
   ],
   "metadata": {}
  },
  {
   "cell_type": "code",
   "execution_count": null,
   "source": [],
   "outputs": [],
   "metadata": {}
  }
 ],
 "metadata": {
  "orig_nbformat": 4,
  "language_info": {
   "name": "python",
   "version": "3.8.12",
   "mimetype": "text/x-python",
   "codemirror_mode": {
    "name": "ipython",
    "version": 3
   },
   "pygments_lexer": "ipython3",
   "nbconvert_exporter": "python",
   "file_extension": ".py"
  },
  "kernelspec": {
   "name": "python3",
   "display_name": "Python 3.8.12 64-bit ('lewagon': pyenv)"
  },
  "interpreter": {
   "hash": "0b78dd554cf1b363163b1c547567a5dc3829b0f8f21d5fd1e5e8017ce28702db"
  }
 },
 "nbformat": 4,
 "nbformat_minor": 2
}