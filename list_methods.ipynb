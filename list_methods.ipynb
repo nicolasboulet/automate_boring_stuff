{
 "cells": [
  {
   "cell_type": "markdown",
   "source": [
    "# Methods"
   ],
   "metadata": {}
  },
  {
   "cell_type": "code",
   "execution_count": 2,
   "source": [
    "spam = ['hi', 'hello', 'yo', 'hi']\n",
    "spam.index('hi')"
   ],
   "outputs": [
    {
     "output_type": "execute_result",
     "data": {
      "text/plain": [
       "0"
      ]
     },
     "metadata": {},
     "execution_count": 2
    }
   ],
   "metadata": {}
  },
  {
   "cell_type": "code",
   "execution_count": 3,
   "source": [
    "spam.append('bonjour')\n",
    "spam"
   ],
   "outputs": [
    {
     "output_type": "execute_result",
     "data": {
      "text/plain": [
       "['hi', 'hello', 'yo', 'hi', 'bonjour']"
      ]
     },
     "metadata": {},
     "execution_count": 3
    }
   ],
   "metadata": {}
  },
  {
   "cell_type": "code",
   "execution_count": 4,
   "source": [
    "spam.insert(1, 'salut')\n",
    "spam"
   ],
   "outputs": [
    {
     "output_type": "execute_result",
     "data": {
      "text/plain": [
       "['hi', 'salut', 'hello', 'yo', 'hi', 'bonjour']"
      ]
     },
     "metadata": {},
     "execution_count": 4
    }
   ],
   "metadata": {}
  },
  {
   "cell_type": "code",
   "execution_count": 5,
   "source": [
    "spam = ['cat', 'rat', 'dog', 'elephant']\n",
    "spam.remove('rat')\n",
    "spam"
   ],
   "outputs": [
    {
     "output_type": "execute_result",
     "data": {
      "text/plain": [
       "['cat', 'dog', 'elephant']"
      ]
     },
     "metadata": {},
     "execution_count": 5
    }
   ],
   "metadata": {}
  },
  {
   "cell_type": "code",
   "execution_count": 6,
   "source": [
    "spam = ['cat', 'rat', 'cat', 'rat', 'cat']\n",
    "spam.remove('cat')\n",
    "spam"
   ],
   "outputs": [
    {
     "output_type": "execute_result",
     "data": {
      "text/plain": [
       "['rat', 'cat', 'rat', 'cat']"
      ]
     },
     "metadata": {},
     "execution_count": 6
    }
   ],
   "metadata": {}
  },
  {
   "cell_type": "code",
   "execution_count": 7,
   "source": [
    "spam = [2, -3, 7, 111, 0.5]\n",
    "spam.sort()\n",
    "spam"
   ],
   "outputs": [
    {
     "output_type": "execute_result",
     "data": {
      "text/plain": [
       "[-3, 0.5, 2, 7, 111]"
      ]
     },
     "metadata": {},
     "execution_count": 7
    }
   ],
   "metadata": {}
  },
  {
   "cell_type": "code",
   "execution_count": 10,
   "source": [
    "spam = ['cat', 'rat', 'dog', 'elephant']\n",
    "spam.sort()\n",
    "spam"
   ],
   "outputs": [
    {
     "output_type": "execute_result",
     "data": {
      "text/plain": [
       "['cat', 'dog', 'elephant', 'rat']"
      ]
     },
     "metadata": {},
     "execution_count": 10
    }
   ],
   "metadata": {}
  },
  {
   "cell_type": "code",
   "execution_count": 12,
   "source": [
    "spam.sort(reverse=True)\n",
    "spam"
   ],
   "outputs": [
    {
     "output_type": "execute_result",
     "data": {
      "text/plain": [
       "['rat', 'elephant', 'dog', 'cat']"
      ]
     },
     "metadata": {},
     "execution_count": 12
    }
   ],
   "metadata": {}
  },
  {
   "cell_type": "code",
   "execution_count": 15,
   "source": [
    "spam = ['Alice', 'Bob', 'audrey', 'Zoro', 'ben']\n",
    "spam.sort()\n",
    "spam"
   ],
   "outputs": [
    {
     "output_type": "execute_result",
     "data": {
      "text/plain": [
       "['Alice', 'Bob', 'Zoro', 'audrey', 'ben']"
      ]
     },
     "metadata": {},
     "execution_count": 15
    }
   ],
   "metadata": {}
  },
  {
   "cell_type": "code",
   "execution_count": 16,
   "source": [
    "spam = [ 'a', 'Z', 'b', 'C']\n",
    "spam.sort(key=str.lower)\n",
    "spam"
   ],
   "outputs": [
    {
     "output_type": "execute_result",
     "data": {
      "text/plain": [
       "['a', 'b', 'C', 'Z']"
      ]
     },
     "metadata": {},
     "execution_count": 16
    }
   ],
   "metadata": {}
  }
 ],
 "metadata": {
  "orig_nbformat": 4,
  "language_info": {
   "name": "python",
   "version": "3.8.12",
   "mimetype": "text/x-python",
   "codemirror_mode": {
    "name": "ipython",
    "version": 3
   },
   "pygments_lexer": "ipython3",
   "nbconvert_exporter": "python",
   "file_extension": ".py"
  },
  "kernelspec": {
   "name": "python3",
   "display_name": "Python 3.8.12 64-bit ('lewagon': pyenv)"
  },
  "interpreter": {
   "hash": "0b78dd554cf1b363163b1c547567a5dc3829b0f8f21d5fd1e5e8017ce28702db"
  }
 },
 "nbformat": 4,
 "nbformat_minor": 2
}