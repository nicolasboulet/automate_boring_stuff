{
 "cells": [
  {
   "cell_type": "markdown",
   "source": [
    "# For and lists"
   ],
   "metadata": {}
  },
  {
   "cell_type": "code",
   "execution_count": 1,
   "source": [
    "animals = ['pinguin', 'turtle', 'bear', 'whale']\n",
    "for animal in animals:\n",
    "  print(animal)\n"
   ],
   "outputs": [
    {
     "output_type": "stream",
     "name": "stdout",
     "text": [
      "pinguin\n",
      "turtle\n",
      "bear\n",
      "whale\n"
     ]
    }
   ],
   "metadata": {}
  },
  {
   "cell_type": "code",
   "execution_count": 12,
   "source": [
    "def char_range(c1, c2):\n",
    "  for letterDecimal in range(ord(c1), ord(c2) + 1 ):\n",
    "    yield chr(letterDecimal)\n",
    "\n",
    "for c in char_range('a', 'z'):\n",
    "  print(c, end=\" \") "
   ],
   "outputs": [
    {
     "output_type": "stream",
     "name": "stdout",
     "text": [
      "a b c d e f g h i j k l m n o p q r s t u v w x y z "
     ]
    }
   ],
   "metadata": {}
  },
  {
   "cell_type": "code",
   "execution_count": 15,
   "source": [
    "list(char_range('a', 'e'))"
   ],
   "outputs": [
    {
     "output_type": "execute_result",
     "data": {
      "text/plain": [
       "['a', 'b', 'c', 'd', 'e']"
      ]
     },
     "metadata": {},
     "execution_count": 15
    }
   ],
   "metadata": {}
  },
  {
   "cell_type": "code",
   "execution_count": 17,
   "source": [
    "animals = ['pinguin', 'turtle', 'bear', 'whale']\n",
    "for i in range(len(animals)):\n",
    "  print('Index : ' + str(i) + ' => ' + animals[i])"
   ],
   "outputs": [
    {
     "output_type": "stream",
     "name": "stdout",
     "text": [
      "Index : 0 => pinguin\n",
      "Index : 1 => turtle\n",
      "Index : 2 => bear\n",
      "Index : 3 => whale\n"
     ]
    }
   ],
   "metadata": {}
  },
  {
   "cell_type": "markdown",
   "source": [
    "# Multiple assignment"
   ],
   "metadata": {}
  },
  {
   "cell_type": "code",
   "execution_count": 18,
   "source": [
    "stuff = ['blue', 'cat', 'pushing daisie']\n",
    "color, animal, serie = stuff\n",
    "print(color)\n",
    "print(animal)\n",
    "print(serie)"
   ],
   "outputs": [
    {
     "output_type": "stream",
     "name": "stdout",
     "text": [
      "blue\n",
      "cat\n",
      "pushing daisie\n"
     ]
    }
   ],
   "metadata": {}
  },
  {
   "cell_type": "code",
   "execution_count": 20,
   "source": [
    "color, animal = 'red', 'dog'\n",
    "print(color)\n",
    "print(animal)"
   ],
   "outputs": [
    {
     "output_type": "stream",
     "name": "stdout",
     "text": [
      "red\n",
      "dog\n"
     ]
    }
   ],
   "metadata": {}
  },
  {
   "cell_type": "code",
   "execution_count": 21,
   "source": [
    "a = 'AAA'\n",
    "b = 'BBB'\n",
    "a, b = b, a\n",
    "print(a)"
   ],
   "outputs": [
    {
     "output_type": "stream",
     "name": "stdout",
     "text": [
      "BBB\n"
     ]
    }
   ],
   "metadata": {}
  },
  {
   "cell_type": "markdown",
   "source": [
    "# Augmented assignment operators"
   ],
   "metadata": {}
  },
  {
   "cell_type": "code",
   "execution_count": 22,
   "source": [
    "spam = 42\n",
    "spam += 1\n",
    "print(spam)"
   ],
   "outputs": [
    {
     "output_type": "stream",
     "name": "stdout",
     "text": [
      "43\n"
     ]
    }
   ],
   "metadata": {}
  },
  {
   "cell_type": "code",
   "execution_count": null,
   "source": [],
   "outputs": [],
   "metadata": {}
  }
 ],
 "metadata": {
  "orig_nbformat": 4,
  "language_info": {
   "name": "python",
   "version": "3.8.12",
   "mimetype": "text/x-python",
   "codemirror_mode": {
    "name": "ipython",
    "version": 3
   },
   "pygments_lexer": "ipython3",
   "nbconvert_exporter": "python",
   "file_extension": ".py"
  },
  "kernelspec": {
   "name": "python3",
   "display_name": "Python 3.8.12 64-bit ('lewagon': pyenv)"
  },
  "interpreter": {
   "hash": "0b78dd554cf1b363163b1c547567a5dc3829b0f8f21d5fd1e5e8017ce28702db"
  }
 },
 "nbformat": 4,
 "nbformat_minor": 2
}