{
 "cells": [
  {
   "cell_type": "markdown",
   "source": [
    "# Try Except"
   ],
   "metadata": {}
  },
  {
   "cell_type": "code",
   "execution_count": 3,
   "source": [
    "def div42by(divideBy):\n",
    "  try:\n",
    "    return 42 / divideBy\n",
    "  except ZeroDivisionError:\n",
    "    print('Error: impossible to divide by zero')\n",
    "    return 'Return on error'\n",
    "\n",
    "print(div42by(2))\n",
    "print(div42by(12))\n",
    "print(div42by(0))\n",
    "print(div42by(3))\n",
    "print(div42by(7))"
   ],
   "outputs": [
    {
     "output_type": "stream",
     "name": "stdout",
     "text": [
      "21.0\n",
      "3.5\n",
      "Error: impossible to divide by zero\n",
      "Return on error\n",
      "14.0\n",
      "6.0\n"
     ]
    }
   ],
   "metadata": {}
  },
  {
   "cell_type": "markdown",
   "source": [
    "# Except for all error"
   ],
   "metadata": {}
  },
  {
   "cell_type": "code",
   "execution_count": 5,
   "source": [
    "def div42by(divideBy):\n",
    "  try:\n",
    "    return 42 / divideBy\n",
    "  except :\n",
    "    print('Unknown error')\n",
    "    return 'Unknown error'\n",
    "\n",
    "print(div42by(2))\n",
    "print(div42by(12))\n",
    "print(div42by(0))\n",
    "print(div42by(3))\n",
    "print(div42by(7))"
   ],
   "outputs": [
    {
     "output_type": "stream",
     "name": "stdout",
     "text": [
      "21.0\n",
      "3.5\n",
      "Unknown error\n",
      "Unknown error\n",
      "14.0\n",
      "6.0\n"
     ]
    }
   ],
   "metadata": {}
  },
  {
   "cell_type": "code",
   "execution_count": 8,
   "source": [
    "print('How many cats do you have?')\n",
    "numCats = input()\n",
    "try:\n",
    "  if int(numCats) >= 4:\n",
    "    print('That is a lot of cats.')\n",
    "  else:\n",
    "    print('That not that many cats')\n",
    "except ValueError:\n",
    "  print('You did not enter a number')"
   ],
   "outputs": [
    {
     "output_type": "stream",
     "name": "stdout",
     "text": [
      "How many cats do you have?\n",
      "That is a lot of cats.\n"
     ]
    }
   ],
   "metadata": {}
  },
  {
   "cell_type": "code",
   "execution_count": null,
   "source": [],
   "outputs": [],
   "metadata": {}
  }
 ],
 "metadata": {
  "orig_nbformat": 4,
  "language_info": {
   "name": "python",
   "version": "3.8.12",
   "mimetype": "text/x-python",
   "codemirror_mode": {
    "name": "ipython",
    "version": 3
   },
   "pygments_lexer": "ipython3",
   "nbconvert_exporter": "python",
   "file_extension": ".py"
  },
  "kernelspec": {
   "name": "python3",
   "display_name": "Python 3.8.12 64-bit ('lewagon': pyenv)"
  },
  "interpreter": {
   "hash": "0b78dd554cf1b363163b1c547567a5dc3829b0f8f21d5fd1e5e8017ce28702db"
  }
 },
 "nbformat": 4,
 "nbformat_minor": 2
}