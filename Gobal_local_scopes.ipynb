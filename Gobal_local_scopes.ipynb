{
 "cells": [
  {
   "cell_type": "markdown",
   "source": [
    "# Scopes \n",
    "\n",
    "A scope can be thought of as an area of the source code, and as a container of variables.\n",
    "The global scope is code outside of all functions. Variables assigned here are global variables.\n",
    "Each function's code is in its own local scope. Variables assigned here are local variables.\n",
    "Code in the global scope cannot use any local variables.\n",
    "Code in a function's local scope cannot use variables in any another function's local scope.\n",
    "(If there is a global statement for a variable at the top of a function, that variable in that function is a global variable.)\n",
    "If there's an assignment statement for a variable in a function, that is a local variable. The exception is if there's a global statement for that variable; then it's a global variable."
   ],
   "metadata": {}
  },
  {
   "cell_type": "code",
   "execution_count": 3,
   "source": [
    "spam = 42\n",
    "\n",
    "def spamlocal():\n",
    "  spam = 11\n",
    "  print(spam)\n",
    "\n",
    "spamlocal()\n",
    "\n",
    "print(spam)"
   ],
   "outputs": [
    {
     "output_type": "stream",
     "name": "stdout",
     "text": [
      "11\n",
      "42\n"
     ]
    }
   ],
   "metadata": {}
  },
  {
   "cell_type": "markdown",
   "source": [
    "# Local variable can't access to other local variable\n",
    "i mean variable define in another function"
   ],
   "metadata": {}
  },
  {
   "cell_type": "code",
   "execution_count": 4,
   "source": [
    "def spam():\n",
    "  eggs = 99\n",
    "  bacon()\n",
    "  print(eggs)\n",
    "  \n",
    "def bacon():\n",
    "  eggs = 3\n",
    "\n",
    "spam()"
   ],
   "outputs": [
    {
     "output_type": "stream",
     "name": "stdout",
     "text": [
      "99\n"
     ]
    }
   ],
   "metadata": {}
  },
  {
   "cell_type": "markdown",
   "source": [
    "# If function not contain local variable python use global variable"
   ],
   "metadata": {}
  },
  {
   "cell_type": "code",
   "execution_count": 5,
   "source": [
    "def spam():\n",
    "  print(eggs)\n",
    "  \n",
    "eggs = 42\n",
    "spam()"
   ],
   "outputs": [
    {
     "output_type": "stream",
     "name": "stdout",
     "text": [
      "42\n"
     ]
    }
   ],
   "metadata": {}
  },
  {
   "cell_type": "code",
   "execution_count": null,
   "source": [],
   "outputs": [],
   "metadata": {}
  }
 ],
 "metadata": {
  "orig_nbformat": 4,
  "language_info": {
   "name": "python",
   "version": "3.8.12",
   "mimetype": "text/x-python",
   "codemirror_mode": {
    "name": "ipython",
    "version": 3
   },
   "pygments_lexer": "ipython3",
   "nbconvert_exporter": "python",
   "file_extension": ".py"
  },
  "kernelspec": {
   "name": "python3",
   "display_name": "Python 3.8.12 64-bit ('lewagon': pyenv)"
  },
  "interpreter": {
   "hash": "0b78dd554cf1b363163b1c547567a5dc3829b0f8f21d5fd1e5e8017ce28702db"
  }
 },
 "nbformat": 4,
 "nbformat_minor": 2
}